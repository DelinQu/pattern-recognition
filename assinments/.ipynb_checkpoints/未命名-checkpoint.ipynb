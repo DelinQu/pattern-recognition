{
 "cells": [
  {
   "cell_type": "code",
   "execution_count": 2,
   "id": "55a66966",
   "metadata": {},
   "outputs": [],
   "source": [
    "import numpy as np"
   ]
  },
  {
   "cell_type": "code",
   "execution_count": 3,
   "id": "7ab7e791",
   "metadata": {},
   "outputs": [],
   "source": [
    "# S,T集合\n",
    "setS = ('D','N','P','V')\n",
    "setT = ('a','c')"
   ]
  },
  {
   "cell_type": "code",
   "execution_count": 38,
   "id": "2c4d72a8",
   "metadata": {
    "scrolled": false
   },
   "outputs": [],
   "source": [
    "# 训练集\n",
    "trainingData = (\"NVc\",\"NVc\",\"NVc\",\"NVc\",\"NVc\",\"NVc\",\"NVc\",\"NVc\",\"NVc\",\n",
    "                \"PVa\",\"PVa\",\"PVa\",\"PVa\",\"PVa\",\"PVa\",\"PVa\",\"PVa\",\"PVa\",\n",
    "                \"NDa\")\n",
    "\n",
    "# 构造目标序列\n",
    "objSeqList = [\"NVa\",\"NDa\",\"NPa\",\"NNa\"]\n",
    "\n",
    "# 获取 ydot\n",
    "def getYdots(t):\n",
    "    ydots = []\n",
    "    for s1 in setS:\n",
    "        for s2 in setS:\n",
    "            ydot = s1 + s2 + t\n",
    "            if ydot not in trainingData:\n",
    "                ydots.append(ydot)\n",
    "    return ydots\n",
    "\n",
    "# 获取 fai\n",
    "def getFai(objSeq,seq):\n",
    "    # 加上 start and end，分别标定为0,1\n",
    "    objSeq = '0' + objSeq + '1'\n",
    "    seq = '0' + seq + '1'\n",
    "    fai = np.zeros((len(objSeq)-1),dtype=np.int16)\n",
    "    for i in range(len(objSeq)-1):\n",
    "        for j in range(len(seq)-1):\n",
    "            if objSeq[i] == seq[i] and objSeq[i+1] == seq[i+1]:\n",
    "                fai[i] = fai[i] + 1\n",
    "    return fai\n",
    "\n",
    "# 获取梯度 don't observe 部分之和\n",
    "def getSum(xn,W,objSeq):\n",
    "    ydots = getYdots(xn)\n",
    "    expSum = 0\n",
    "    ZSum = 0\n",
    "    for seq in ydots:\n",
    "        expP = np.exp(W @ getFai(objSeq,seq))\n",
    "        ZSum, expSum= ZSum + expP, expSum + expP*getFai(objSeq,seq)\n",
    "    \n",
    "    # 防止 division by zero\n",
    "    if ZSum == 0:\n",
    "        return 0 \n",
    "    else:\n",
    "        return expSum / ZSum\n",
    "\n",
    "# 训练\n",
    "def Train(objSeq,eta,e,times):\n",
    "    # generate W randomly\n",
    "    W = np.random.rand(len(objSeq)+1)\n",
    "    for i in range(times):\n",
    "        for seq in trainingData:\n",
    "            dOW = getFai(objSeq,seq) - getSum(objSeq[-1],W,objSeq)\n",
    "            if abs(dOW).all() < e:\n",
    "                return W\n",
    "            W = W + eta*(dOW)\n",
    "    return W"
   ]
  },
  {
   "cell_type": "code",
   "execution_count": 39,
   "id": "6ae5eac4",
   "metadata": {},
   "outputs": [
    {
     "name": "stdout",
     "output_type": "stream",
     "text": [
      "objVec: NVa,    Wi: [ 0.83876899  0.65844007 -0.23931238 -0.07978338],     P(x,y): 4.712453201853091 \n",
      "objVec: NDa,    Wi: [0.09982622 0.86943635 0.41874118 0.85453456],     P(x,y): 8.970153255485426 \n",
      "objVec: NPa,    Wi: [ 0.94625078  0.59614083 -0.1013268  -0.21486073],     P(x,y): 4.904816322878566 \n",
      "objVec: NNa,    Wi: [ 0.71792378 -0.10178423  0.05672623  0.37767418],     P(x,y): 4.202159843492733 \n",
      "The sequence with the highest probability: NDa,    Wi: [0.09982622 0.86943635 0.41874118 0.85453456],     P(x,y): 8.970153255485426 \n"
     ]
    }
   ],
   "source": [
    "if __name__ == '__main__':\n",
    "    maxWi,maxPi,maxSeq = np.ones((len(objSeqList[0])+1)),0,0\n",
    "    # 遍历所有目标序列，计算联合概率\n",
    "    for objSeq in objSeqList:\n",
    "        #  Inference\n",
    "        Wi = Train(objSeq,0.01,0.01,10000)\n",
    "        Pi = Wi@getFai(objSeq,objSeq)\n",
    "        print(\"objVec: {},    Wi: {},     P(x,y): {} \".format(objSeq,Wi,Pi))\n",
    "        if maxPi < Pi:\n",
    "            maxWi,maxPi,maxSeq = Wi,Pi,objSeq\n",
    "\n",
    "    print(\"The sequence with the highest probability: {},    Wi: {},     P(x,y): {} \".format(maxSeq,maxWi,maxPi))\n",
    "        "
   ]
  }
 ],
 "metadata": {
  "kernelspec": {
   "display_name": "Python 3 (ipykernel)",
   "language": "python",
   "name": "python3"
  },
  "language_info": {
   "codemirror_mode": {
    "name": "ipython",
    "version": 3
   },
   "file_extension": ".py",
   "mimetype": "text/x-python",
   "name": "python",
   "nbconvert_exporter": "python",
   "pygments_lexer": "ipython3",
   "version": "3.8.10"
  }
 },
 "nbformat": 4,
 "nbformat_minor": 5
}
