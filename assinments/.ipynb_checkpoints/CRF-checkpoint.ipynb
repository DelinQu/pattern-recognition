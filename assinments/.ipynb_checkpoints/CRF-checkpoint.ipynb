{
 "cells": [
  {
   "cell_type": "code",
   "execution_count": 1,
   "id": "55a66966",
   "metadata": {},
   "outputs": [],
   "source": [
    "import numpy as np"
   ]
  },
  {
   "cell_type": "code",
   "execution_count": 2,
   "id": "7ab7e791",
   "metadata": {},
   "outputs": [],
   "source": [
    "# S,T集合\n",
    "setS = ('D','N','P','V')\n",
    "setT = ('a','c')"
   ]
  },
  {
   "cell_type": "code",
   "execution_count": 3,
   "id": "2c4d72a8",
   "metadata": {
    "scrolled": false
   },
   "outputs": [],
   "source": [
    "# 训练集\n",
    "trainingData = (\"NVc\",\"NVc\",\"NVc\",\"NVc\",\"NVc\",\"NVc\",\"NVc\",\"NVc\",\"NVc\",\n",
    "                \"PVa\",\"PVa\",\"PVa\",\"PVa\",\"PVa\",\"PVa\",\"PVa\",\"PVa\",\"PVa\",\n",
    "                \"NDa\")\n",
    "\n",
    "# 构造目标特征序列\n",
    "objSeqList = [\"NVa\",\"NDa\",\"NPa\",\"NNa\"]\n",
    "\n",
    "# 获取 ydot\n",
    "def getYdots(t):\n",
    "    ydots = []\n",
    "    for s1 in setS:\n",
    "        for s2 in setS:\n",
    "            ydot = s1 + s2 + t\n",
    "            if ydot not in trainingData:\n",
    "                ydots.append(ydot)\n",
    "    return ydots\n",
    "\n",
    "# 获取 fai\n",
    "def getFai(objSeq,seq):\n",
    "    # 加上 start and end，分别标定为0,1\n",
    "    objSeq = '0' + objSeq + '1'\n",
    "    seq = '0' + seq + '1'\n",
    "    fai = np.zeros((len(objSeq)-1),dtype=np.int16)\n",
    "    for i in range(len(objSeq)-1):\n",
    "        for j in range(len(seq)-1):\n",
    "            if objSeq[i] == seq[i] and objSeq[i+1] == seq[i+1]:\n",
    "                fai[i] = fai[i] + 1\n",
    "    return fai\n",
    "\n",
    "# 获取梯度 don't observe 部分之和\n",
    "def getSum(xn,W,objSeq):\n",
    "    ydots = getYdots(xn)\n",
    "    expSum, ZSum = 0, 0\n",
    "    for seq in ydots:\n",
    "        expP = np.exp(W @ getFai(objSeq,seq))\n",
    "        ZSum, expSum= ZSum + expP, expSum + expP*getFai(objSeq,seq)\n",
    "    # 防止 division by zero\n",
    "    if ZSum == 0:\n",
    "        return 0 \n",
    "    else:\n",
    "        return expSum / ZSum\n",
    "\n",
    "# 训练\n",
    "def Train(objSeq,eta,e,times):\n",
    "    # generate W randomly\n",
    "    W = np.random.rand(len(objSeq)+1)\n",
    "    for i in range(times):\n",
    "        for seq in trainingData:\n",
    "            dOW = getFai(objSeq,seq) - getSum(objSeq[-1],W,objSeq)\n",
    "            if abs(dOW).all() < e:\n",
    "                return W\n",
    "            W = W + eta*(dOW)\n",
    "    return W"
   ]
  },
  {
   "cell_type": "code",
   "execution_count": 7,
   "id": "6ae5eac4",
   "metadata": {},
   "outputs": [
    {
     "ename": "TypeError",
     "evalue": "unsupported format string passed to numpy.ndarray.__format__",
     "output_type": "error",
     "traceback": [
      "\u001b[0;31m---------------------------------------------------------------------------\u001b[0m",
      "\u001b[0;31mTypeError\u001b[0m                                 Traceback (most recent call last)",
      "\u001b[0;32m/tmp/ipykernel_32981/308744965.py\u001b[0m in \u001b[0;36m<module>\u001b[0;34m\u001b[0m\n\u001b[1;32m      6\u001b[0m         \u001b[0mWi\u001b[0m \u001b[0;34m=\u001b[0m \u001b[0mTrain\u001b[0m\u001b[0;34m(\u001b[0m\u001b[0mobjSeq\u001b[0m\u001b[0;34m,\u001b[0m\u001b[0;36m0.01\u001b[0m\u001b[0;34m,\u001b[0m\u001b[0;36m0.01\u001b[0m\u001b[0;34m,\u001b[0m\u001b[0;36m10000\u001b[0m\u001b[0;34m)\u001b[0m\u001b[0;34m\u001b[0m\u001b[0;34m\u001b[0m\u001b[0m\n\u001b[1;32m      7\u001b[0m         \u001b[0mPi\u001b[0m \u001b[0;34m=\u001b[0m \u001b[0mWi\u001b[0m\u001b[0;34m@\u001b[0m\u001b[0mgetFai\u001b[0m\u001b[0;34m(\u001b[0m\u001b[0mobjSeq\u001b[0m\u001b[0;34m,\u001b[0m\u001b[0mobjSeq\u001b[0m\u001b[0;34m)\u001b[0m\u001b[0;34m\u001b[0m\u001b[0;34m\u001b[0m\u001b[0m\n\u001b[0;32m----> 8\u001b[0;31m         \u001b[0mprint\u001b[0m\u001b[0;34m(\u001b[0m\u001b[0;34m\"objVec: {},    Wi: {:200},     P(x,y): {} \"\u001b[0m\u001b[0;34m.\u001b[0m\u001b[0mformat\u001b[0m\u001b[0;34m(\u001b[0m\u001b[0mobjSeq\u001b[0m\u001b[0;34m,\u001b[0m\u001b[0mWi\u001b[0m\u001b[0;34m,\u001b[0m\u001b[0mPi\u001b[0m\u001b[0;34m)\u001b[0m\u001b[0;34m)\u001b[0m\u001b[0;34m\u001b[0m\u001b[0;34m\u001b[0m\u001b[0m\n\u001b[0m\u001b[1;32m      9\u001b[0m         \u001b[0;32mif\u001b[0m \u001b[0mmaxPi\u001b[0m \u001b[0;34m<\u001b[0m \u001b[0mPi\u001b[0m\u001b[0;34m:\u001b[0m\u001b[0;34m\u001b[0m\u001b[0;34m\u001b[0m\u001b[0m\n\u001b[1;32m     10\u001b[0m             \u001b[0mmaxWi\u001b[0m\u001b[0;34m,\u001b[0m\u001b[0mmaxPi\u001b[0m\u001b[0;34m,\u001b[0m\u001b[0mmaxSeq\u001b[0m \u001b[0;34m=\u001b[0m \u001b[0mWi\u001b[0m\u001b[0;34m,\u001b[0m\u001b[0mPi\u001b[0m\u001b[0;34m,\u001b[0m\u001b[0mobjSeq\u001b[0m\u001b[0;34m\u001b[0m\u001b[0;34m\u001b[0m\u001b[0m\n",
      "\u001b[0;31mTypeError\u001b[0m: unsupported format string passed to numpy.ndarray.__format__"
     ]
    }
   ],
   "source": [
    "if __name__ == '__main__':\n",
    "    maxWi,maxPi,maxSeq = np.ones((len(objSeqList[0])+1)),0,0\n",
    "    # 遍历所有目标序列，计算联合概率\n",
    "    for objSeq in objSeqList:\n",
    "        #  Inference\n",
    "        Wi = Train(objSeq,0.01,0.01,10000)\n",
    "        Pi = Wi@getFai(objSeq,objSeq)\n",
    "        print(\"objVec: {},    Wi: {},     P(x,y): {} \".format(objSeq,Wi,Pi))\n",
    "        if maxPi < Pi:\n",
    "            maxWi,maxPi,maxSeq = Wi,Pi,objSeq\n",
    "\n",
    "    print(\"The sequence with the highest probability: {},    Wi: {},     P(x,y): {} \".format(maxSeq,maxWi,maxPi))\n",
    "        "
   ]
  }
 ],
 "metadata": {
  "kernelspec": {
   "display_name": "Python 3 (ipykernel)",
   "language": "python",
   "name": "python3"
  },
  "language_info": {
   "codemirror_mode": {
    "name": "ipython",
    "version": 3
   },
   "file_extension": ".py",
   "mimetype": "text/x-python",
   "name": "python",
   "nbconvert_exporter": "python",
   "pygments_lexer": "ipython3",
   "version": "3.8.10"
  }
 },
 "nbformat": 4,
 "nbformat_minor": 5
}
